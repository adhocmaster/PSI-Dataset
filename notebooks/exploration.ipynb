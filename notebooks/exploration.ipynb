{
 "cells": [
  {
   "cell_type": "code",
   "execution_count": null,
   "id": "062a5e35-fa76-4b4a-a5a6-1d45ccb6cfb7",
   "metadata": {},
   "outputs": [],
   "source": []
  },
  {
   "cell_type": "code",
   "execution_count": 66,
   "id": "ebdc4a10-bff6-4e42-baf2-271ad4a610ee",
   "metadata": {},
   "outputs": [],
   "source": [
    "dataDir = \"E:/Datasets/PSI_2_dataset\"\n",
    "annotationDir = f\"{dataDir}/PSI2.0_TrainVal/annotations\"\n",
    "cvAnnotationDir = f\"{annotationDir}/cv_annotation\"\n",
    "databaseDir = f\"{dataDir}/database\""
   ]
  },
  {
   "cell_type": "code",
   "execution_count": 2,
   "id": "252dbdff-995d-4aad-9442-5a5935b8b427",
   "metadata": {},
   "outputs": [
    {
     "name": "stdout",
     "output_type": "stream",
     "text": [
      "current working dirF:\\PSI-Dataset\n"
     ]
    }
   ],
   "source": [
    "exec(open('init_notebook.py').read())"
   ]
  },
  {
   "cell_type": "code",
   "execution_count": 3,
   "id": "46d1ee94-6dec-49e5-aa9b-b69a9f789b52",
   "metadata": {},
   "outputs": [],
   "source": [
    "%load_ext autoreload\n",
    "%autoreload 2"
   ]
  },
  {
   "cell_type": "code",
   "execution_count": 31,
   "id": "df939b8b-88cf-4ec7-81a4-8a0649be9c5c",
   "metadata": {},
   "outputs": [],
   "source": [
    "import pandas as pd\n",
    "import os\n",
    "# import seaborn as sns\n",
    "import matplotlib.pyplot as plt\n",
    "import cv2\n",
    "from tqdm import tqdm\n",
    "import numpy.typing as npt\n",
    "import json\n",
    "import pickle"
   ]
  },
  {
   "cell_type": "code",
   "execution_count": 67,
   "id": "2c006292-f3bc-4416-91df-f4a0b1219c0f",
   "metadata": {},
   "outputs": [],
   "source": [
    "videoName = \"video_0004\"\n",
    "frameFolder = os.path.join(dataDir, \"frames\", videoName)\n",
    "annotationFile = os.path.join(cvAnnotationDir, videoName, \"cv_annotation.json\")\n",
    "# os.listdir(frameFolder)"
   ]
  },
  {
   "cell_type": "code",
   "execution_count": 62,
   "id": "c27aaa09-8d0b-428f-9da2-d0aff04d5439",
   "metadata": {},
   "outputs": [
    {
     "name": "stderr",
     "output_type": "stream",
     "text": [
      "100%|████████████████████████████████████████████████████████████████████████████████| 451/451 [00:06<00:00, 70.25it/s]\n"
     ]
    }
   ],
   "source": [
    "# Load the frames\n",
    "frames = []\n",
    "for imName in tqdm(sorted(os.listdir(frameFolder))):\n",
    "    imPath = os.path.join(frameFolder, imName)\n",
    "    frames.append(cv2.imread(imPath))"
   ]
  },
  {
   "cell_type": "code",
   "execution_count": 63,
   "id": "4c193030-183b-444f-b233-3cbe8984b449",
   "metadata": {},
   "outputs": [],
   "source": [
    "def showFrame(title: str, img: npt.ArrayLike):\n",
    "    cv2.imshow(title, img)\n",
    "    cv2.waitKey(0)\n",
    "    cv2.destroyAllWindows()\n",
    "    cv2.waitKey(1)\n",
    "    "
   ]
  },
  {
   "cell_type": "code",
   "execution_count": 64,
   "id": "cca3900d-a233-420a-94c2-d9bdc23028e4",
   "metadata": {},
   "outputs": [],
   "source": [
    "showFrame(\"Frame 0\", frames[0])"
   ]
  },
  {
   "cell_type": "markdown",
   "id": "377639c8-85bd-4114-a21b-9f665d7906e9",
   "metadata": {},
   "source": [
    "# Annotations"
   ]
  },
  {
   "cell_type": "markdown",
   "id": "3223e548-040d-4f06-8804-b8970199b0c1",
   "metadata": {},
   "source": [
    "## Base CV Annotations"
   ]
  },
  {
   "cell_type": "code",
   "execution_count": 91,
   "id": "63831e29-06d6-4c44-a554-db11ae99603a",
   "metadata": {},
   "outputs": [],
   "source": [
    "with open(annotationFile, 'r') as file:\n",
    "    annotation = json.load(file)\n",
    "pedTrackKey = \"pedestrian_track_22\"\n",
    "frameKey = 'frame_155'"
   ]
  },
  {
   "cell_type": "code",
   "execution_count": 92,
   "id": "10ffde29-2bca-48e4-b7b4-fed14f543224",
   "metadata": {},
   "outputs": [
    {
     "data": {
      "text/plain": [
       "dict_keys(['video_name', 'frames'])"
      ]
     },
     "execution_count": 92,
     "metadata": {},
     "output_type": "execute_result"
    }
   ],
   "source": [
    "annotation.keys()"
   ]
  },
  {
   "cell_type": "code",
   "execution_count": 93,
   "id": "0f7b23cf-d007-4f98-bf86-36f25f0d67d5",
   "metadata": {},
   "outputs": [
    {
     "data": {
      "text/plain": [
       "dict_keys(['frame_0', 'frame_1', 'frame_2', 'frame_3', 'frame_4', 'frame_5', 'frame_6', 'frame_7', 'frame_8', 'frame_9', 'frame_10', 'frame_11', 'frame_12', 'frame_13', 'frame_14', 'frame_15', 'frame_16', 'frame_17', 'frame_18', 'frame_19', 'frame_20', 'frame_21', 'frame_22', 'frame_23', 'frame_24', 'frame_25', 'frame_26', 'frame_27', 'frame_28', 'frame_29', 'frame_30', 'frame_31', 'frame_32', 'frame_33', 'frame_34', 'frame_35', 'frame_36', 'frame_37', 'frame_38', 'frame_39', 'frame_40', 'frame_41', 'frame_42', 'frame_43', 'frame_44', 'frame_45', 'frame_46', 'frame_47', 'frame_48', 'frame_49', 'frame_50', 'frame_51', 'frame_52', 'frame_53', 'frame_54', 'frame_55', 'frame_56', 'frame_57', 'frame_58', 'frame_59', 'frame_60', 'frame_61', 'frame_62', 'frame_63', 'frame_64', 'frame_65', 'frame_66', 'frame_67', 'frame_68', 'frame_69', 'frame_70', 'frame_71', 'frame_72', 'frame_73', 'frame_74', 'frame_75', 'frame_76', 'frame_77', 'frame_78', 'frame_79', 'frame_80', 'frame_81', 'frame_82', 'frame_83', 'frame_84', 'frame_85', 'frame_86', 'frame_87', 'frame_88', 'frame_89', 'frame_90', 'frame_91', 'frame_92', 'frame_93', 'frame_94', 'frame_95', 'frame_96', 'frame_97', 'frame_98', 'frame_99', 'frame_100', 'frame_101', 'frame_102', 'frame_103', 'frame_104', 'frame_105', 'frame_106', 'frame_107', 'frame_108', 'frame_109', 'frame_110', 'frame_111', 'frame_112', 'frame_113', 'frame_114', 'frame_115', 'frame_116', 'frame_117', 'frame_118', 'frame_119', 'frame_120', 'frame_121', 'frame_122', 'frame_123', 'frame_124', 'frame_125', 'frame_126', 'frame_127', 'frame_128', 'frame_129', 'frame_130', 'frame_131', 'frame_132', 'frame_133', 'frame_134', 'frame_135', 'frame_136', 'frame_137', 'frame_138', 'frame_139', 'frame_140', 'frame_141', 'frame_142', 'frame_143', 'frame_144', 'frame_145', 'frame_146', 'frame_147', 'frame_148', 'frame_149', 'frame_150', 'frame_151', 'frame_152', 'frame_153', 'frame_154', 'frame_155', 'frame_156', 'frame_157', 'frame_158', 'frame_159', 'frame_160', 'frame_161', 'frame_162', 'frame_163', 'frame_164', 'frame_165', 'frame_166', 'frame_167', 'frame_168', 'frame_169', 'frame_170', 'frame_171', 'frame_172', 'frame_173', 'frame_174', 'frame_175', 'frame_176', 'frame_177', 'frame_178', 'frame_179', 'frame_180', 'frame_181', 'frame_182', 'frame_183', 'frame_184', 'frame_185', 'frame_186', 'frame_187', 'frame_188', 'frame_189', 'frame_190', 'frame_191', 'frame_192', 'frame_193', 'frame_194', 'frame_195', 'frame_196', 'frame_197', 'frame_198', 'frame_199', 'frame_200', 'frame_201', 'frame_202', 'frame_203', 'frame_204', 'frame_205', 'frame_206', 'frame_207', 'frame_208', 'frame_209', 'frame_210', 'frame_211', 'frame_212', 'frame_213', 'frame_214', 'frame_215', 'frame_216', 'frame_217', 'frame_218', 'frame_219', 'frame_220', 'frame_221', 'frame_222', 'frame_223', 'frame_224', 'frame_225', 'frame_226', 'frame_227', 'frame_228', 'frame_229', 'frame_230', 'frame_231', 'frame_232', 'frame_233', 'frame_234', 'frame_235', 'frame_236', 'frame_237', 'frame_238', 'frame_239', 'frame_240', 'frame_241', 'frame_242', 'frame_243', 'frame_244', 'frame_245', 'frame_246', 'frame_247', 'frame_248', 'frame_249', 'frame_250', 'frame_251', 'frame_252', 'frame_253', 'frame_254', 'frame_255', 'frame_256', 'frame_257', 'frame_258', 'frame_259', 'frame_260', 'frame_261', 'frame_262', 'frame_263', 'frame_264', 'frame_265', 'frame_266', 'frame_267', 'frame_268', 'frame_269', 'frame_270', 'frame_271', 'frame_272', 'frame_273', 'frame_274', 'frame_275', 'frame_276', 'frame_277', 'frame_278', 'frame_279', 'frame_280', 'frame_281', 'frame_282', 'frame_283', 'frame_284', 'frame_285', 'frame_286', 'frame_287', 'frame_288', 'frame_289', 'frame_290', 'frame_291', 'frame_292', 'frame_293', 'frame_294', 'frame_295', 'frame_296', 'frame_297', 'frame_298', 'frame_299', 'frame_300', 'frame_301', 'frame_302', 'frame_303', 'frame_304', 'frame_305', 'frame_306', 'frame_307', 'frame_308', 'frame_309', 'frame_310', 'frame_311', 'frame_312', 'frame_313', 'frame_314', 'frame_315', 'frame_316', 'frame_317', 'frame_318', 'frame_319', 'frame_320', 'frame_321', 'frame_322', 'frame_323', 'frame_324', 'frame_325', 'frame_326', 'frame_327', 'frame_328', 'frame_329', 'frame_330', 'frame_331', 'frame_332', 'frame_333', 'frame_334', 'frame_335', 'frame_336', 'frame_337', 'frame_338', 'frame_339', 'frame_340', 'frame_341', 'frame_342', 'frame_343', 'frame_344', 'frame_345', 'frame_346', 'frame_347', 'frame_348', 'frame_349', 'frame_350', 'frame_351', 'frame_352', 'frame_353', 'frame_354', 'frame_355', 'frame_356', 'frame_357', 'frame_358', 'frame_359', 'frame_360', 'frame_361', 'frame_362', 'frame_363', 'frame_364', 'frame_365', 'frame_366', 'frame_367', 'frame_368', 'frame_369', 'frame_370', 'frame_371', 'frame_372', 'frame_373', 'frame_374', 'frame_375', 'frame_376', 'frame_377', 'frame_378', 'frame_379', 'frame_380', 'frame_381', 'frame_382', 'frame_383', 'frame_384', 'frame_385', 'frame_386', 'frame_387', 'frame_388', 'frame_389', 'frame_390', 'frame_391', 'frame_392', 'frame_393', 'frame_394', 'frame_395', 'frame_396', 'frame_397', 'frame_398', 'frame_399', 'frame_400', 'frame_401', 'frame_402', 'frame_403', 'frame_404', 'frame_405', 'frame_406', 'frame_407', 'frame_408', 'frame_409', 'frame_410', 'frame_411', 'frame_412', 'frame_413', 'frame_414', 'frame_415', 'frame_416', 'frame_417', 'frame_418', 'frame_419', 'frame_420', 'frame_421', 'frame_422', 'frame_423', 'frame_424', 'frame_425', 'frame_426', 'frame_427', 'frame_428', 'frame_429', 'frame_430', 'frame_431', 'frame_432', 'frame_433', 'frame_434', 'frame_435', 'frame_436', 'frame_437', 'frame_438', 'frame_439', 'frame_440', 'frame_441', 'frame_442', 'frame_443', 'frame_444', 'frame_445', 'frame_446', 'frame_447', 'frame_448', 'frame_449', 'frame_450', 'frame_451'])"
      ]
     },
     "execution_count": 93,
     "metadata": {},
     "output_type": "execute_result"
    }
   ],
   "source": [
    "annotation[\"frames\"].keys()"
   ]
  },
  {
   "cell_type": "code",
   "execution_count": 94,
   "id": "3cdccf2d-4945-403f-82cb-f658a9c66270",
   "metadata": {},
   "outputs": [
    {
     "data": {
      "text/plain": [
       "dict_keys(['cv_annotation', 'speed(km/hr)', 'gps', 'time'])"
      ]
     },
     "execution_count": 94,
     "metadata": {},
     "output_type": "execute_result"
    }
   ],
   "source": [
    "annotation[\"frames\"][frameKey].keys()"
   ]
  },
  {
   "cell_type": "code",
   "execution_count": 95,
   "id": "eb8fbf2c-7563-48ca-a7e7-d433caff5a7e",
   "metadata": {},
   "outputs": [
    {
     "data": {
      "text/plain": [
       "dict_keys(['pedestrian_track_22', 'car_track_23', 'car_track_24', 'car_track_25', 'car_track_26', 'car_track_27', 'car_track_29', 'car_track_30', 'car_track_31', 'car_track_33'])"
      ]
     },
     "execution_count": 95,
     "metadata": {},
     "output_type": "execute_result"
    }
   ],
   "source": [
    "annotation[\"frames\"][frameKey][\"cv_annotation\"].keys()"
   ]
  },
  {
   "cell_type": "code",
   "execution_count": 96,
   "id": "ed2a4cdf-8334-43af-a23b-c760992cf524",
   "metadata": {},
   "outputs": [
    {
     "data": {
      "text/plain": [
       "dict_keys(['object_type', 'track_id', 'groupId', 'bbox', 'observed_frames'])"
      ]
     },
     "execution_count": 96,
     "metadata": {},
     "output_type": "execute_result"
    }
   ],
   "source": [
    "annotation[\"frames\"][frameKey][\"cv_annotation\"][pedTrackKey].keys()"
   ]
  },
  {
   "cell_type": "code",
   "execution_count": 97,
   "id": "4c84e8a4-5aef-4395-8dd4-b1a1f0231beb",
   "metadata": {},
   "outputs": [
    {
     "name": "stdout",
     "output_type": "stream",
     "text": [
      "155 252\n"
     ]
    }
   ],
   "source": [
    "observedFrames = annotation[\"frames\"][frameKey][\"cv_annotation\"][pedTrackKey][\"observed_frames\"]\n",
    "print(observedFrames[0], observedFrames[-1])"
   ]
  },
  {
   "cell_type": "markdown",
   "id": "9fec749b-b937-4c02-b0ba-dddafbf86ea2",
   "metadata": {},
   "source": [
    "## Annotations for Prediction Task"
   ]
  },
  {
   "cell_type": "code",
   "execution_count": 34,
   "id": "8b998dc6-5e5d-499d-82d7-f364e6176814",
   "metadata": {},
   "outputs": [],
   "source": [
    "trainDbPath = os.path.join(databaseDir, \"traj_database_train.pkl\")\n",
    "with open(trainDbPath, \"rb\") as f:\n",
    "    trainDb = pickle.load(f)"
   ]
  },
  {
   "cell_type": "code",
   "execution_count": 35,
   "id": "f51f851f-e73e-4293-b5df-40fd41f4a5e3",
   "metadata": {},
   "outputs": [
    {
     "data": {
      "text/plain": [
       "dict_keys(['video_0001', 'video_0002', 'video_0003', 'video_0004', 'video_0005', 'video_0006', 'video_0007', 'video_0008', 'video_0009', 'video_0010', 'video_0011', 'video_0012', 'video_0013', 'video_0014', 'video_0015', 'video_0016', 'video_0017', 'video_0018', 'video_0019', 'video_0020', 'video_0021', 'video_0022', 'video_0023', 'video_0024', 'video_0025', 'video_0026', 'video_0027', 'video_0028', 'video_0029', 'video_0030', 'video_0031', 'video_0032', 'video_0033', 'video_0034', 'video_0035', 'video_0036', 'video_0037', 'video_0038', 'video_0039', 'video_0040', 'video_0041', 'video_0042', 'video_0043', 'video_0044', 'video_0045', 'video_0046', 'video_0047', 'video_0048', 'video_0049', 'video_0050', 'video_0051', 'video_0052', 'video_0053', 'video_0054', 'video_0055', 'video_0056', 'video_0057', 'video_0058', 'video_0059', 'video_0060', 'video_0061', 'video_0062', 'video_0063', 'video_0065', 'video_0066', 'video_0067', 'video_0068', 'video_0069', 'video_0071', 'video_0073', 'video_0074', 'video_0075', 'video_0076', 'video_0077', 'video_0078', 'video_0079', 'video_0080', 'video_0081', 'video_0082', 'video_0083', 'video_0084', 'video_0085', 'video_0086', 'video_0087', 'video_0088', 'video_0089', 'video_0090', 'video_0091', 'video_0092', 'video_0093', 'video_0094', 'video_0095', 'video_0096', 'video_0097', 'video_0098', 'video_0099', 'video_0100', 'video_0101', 'video_0102', 'video_0104', 'video_0105', 'video_0106', 'video_0107', 'video_0108', 'video_0109', 'video_0110'])"
      ]
     },
     "execution_count": 35,
     "metadata": {},
     "output_type": "execute_result"
    }
   ],
   "source": [
    "trainDb.keys()"
   ]
  },
  {
   "cell_type": "code",
   "execution_count": 82,
   "id": "d4e4926a-b6a8-47d3-b995-5fd288113f98",
   "metadata": {},
   "outputs": [
    {
     "name": "stdout",
     "output_type": "stream",
     "text": [
      "dict_keys(['track_22'])\n"
     ]
    }
   ],
   "source": [
    "print(trainDb[videoName].keys())\n",
    "dbPedKey = 'track_22'"
   ]
  },
  {
   "cell_type": "code",
   "execution_count": 83,
   "id": "83f12786-c498-4849-bfe5-927ffa7f5186",
   "metadata": {},
   "outputs": [
    {
     "data": {
      "text/plain": [
       "dict_keys(['frames', 'cv_annotations', 'nlp_annotations'])"
      ]
     },
     "execution_count": 83,
     "metadata": {},
     "output_type": "execute_result"
    }
   ],
   "source": [
    "trainDb[videoName][dbPedKey].keys()"
   ]
  },
  {
   "cell_type": "code",
   "execution_count": 98,
   "id": "af12c0e1-e92d-45a8-8682-d9bb7ebef429",
   "metadata": {},
   "outputs": [],
   "source": [
    "# trainDb[videoName][dbPedKey][\"frames\"]"
   ]
  },
  {
   "cell_type": "code",
   "execution_count": 99,
   "id": "c776bf37-be3d-46ef-9128-022b93f719bf",
   "metadata": {},
   "outputs": [],
   "source": [
    "assert trainDb[videoName][dbPedKey][\"frames\"] == observedFrames"
   ]
  },
  {
   "cell_type": "code",
   "execution_count": 100,
   "id": "a20355c2-e521-45e7-bfa7-c6398d151c00",
   "metadata": {},
   "outputs": [
    {
     "data": {
      "text/plain": [
       "dict_keys(['track_id', 'bbox'])"
      ]
     },
     "execution_count": 100,
     "metadata": {},
     "output_type": "execute_result"
    }
   ],
   "source": [
    "trainDb[videoName][dbPedKey]['cv_annotations'].keys()"
   ]
  },
  {
   "cell_type": "code",
   "execution_count": 101,
   "id": "1b75d03a-aab5-45e1-90aa-b46c795ac111",
   "metadata": {},
   "outputs": [],
   "source": [
    "assert len(trainDb[videoName][dbPedKey]['cv_annotations'][\"bbox\"]) == len(observedFrames)"
   ]
  },
  {
   "cell_type": "code",
   "execution_count": 102,
   "id": "6ad87039-9e3f-4215-90cf-9ed53176a7bb",
   "metadata": {},
   "outputs": [
    {
     "data": {
      "text/plain": [
       "dict_keys(['nlp_vid_15_uid_5234_v2', 'nlp_vid_16_uid_5112_v2', 'nlp_vid_17_uid_5295_v2', 'nlp_vid_25_uid_5103_v2', 'nlp_vid_36_uid_5226_v2', 'nlp_vid_39_uid_4995_v2', 'nlp_vid_47_uid_5093_v2', 'nlp_vid_4_uid_5115_v2', 'nlp_vid_55_uid_5120_v2'])"
      ]
     },
     "execution_count": 102,
     "metadata": {},
     "output_type": "execute_result"
    }
   ],
   "source": [
    "trainDb[videoName][dbPedKey]['nlp_annotations'].keys()"
   ]
  },
  {
   "cell_type": "code",
   "execution_count": 111,
   "id": "f562a238-6a06-466d-b271-a3302d647d64",
   "metadata": {},
   "outputs": [
    {
     "name": "stdout",
     "output_type": "stream",
     "text": [
      "dict_keys(['intent', 'description', 'key_frame'])\n"
     ]
    }
   ],
   "source": [
    "user1Annotations = trainDb[videoName][dbPedKey]['nlp_annotations']['nlp_vid_4_uid_5115_v2']\n",
    "assert len(user1Annotations['intent']) == len(observedFrames)\n",
    "assert len(user1Annotations['description']) == len(observedFrames)\n",
    "assert len(user1Annotations['key_frame']) == len(observedFrames)\n",
    "print(user1Annotations.keys())"
   ]
  },
  {
   "cell_type": "code",
   "execution_count": 112,
   "id": "d92d32d5-75fd-4a78-9a50-08a468acd351",
   "metadata": {},
   "outputs": [
    {
     "data": {
      "text/plain": [
       "['The person is standing in the road. They are making a decision to cross or not.  There is a parking lot on the right side. The car is in a campus area.  The person is in the road. They are looking into the road.  The person is near the car. There are other cars driving in the road.  ',\n",
       " 'The person is standing in the road. They are making a decision to cross or not.  There is a parking lot on the right side. The car is in a campus area.  The person is in the road. They are looking into the road.  The person is near the car. There are other cars driving in the road.  ',\n",
       " 'The person is standing in the road. They are making a decision to cross or not.  There is a parking lot on the right side. The car is in a campus area.  The person is in the road. They are looking into the road.  The person is near the car. There are other cars driving in the road.  ',\n",
       " 'The person is standing in the road. They are making a decision to cross or not.  There is a parking lot on the right side. The car is in a campus area.  The person is in the road. They are looking into the road.  The person is near the car. There are other cars driving in the road.  ',\n",
       " 'The person is standing in the road. They are making a decision to cross or not.  There is a parking lot on the right side. The car is in a campus area.  The person is in the road. They are looking into the road.  The person is near the car. There are other cars driving in the road.  ',\n",
       " 'The person is standing in the road. They are making a decision to cross or not.  There is a parking lot on the right side. The car is in a campus area.  The person is in the road. They are looking into the road.  The person is near the car. There are other cars driving in the road.  ',\n",
       " 'The person is standing in the road. They are making a decision to cross or not.  There is a parking lot on the right side. The car is in a campus area.  The person is in the road. They are looking into the road.  The person is near the car. There are other cars driving in the road.  ',\n",
       " 'The person is standing in the road. They are making a decision to cross or not.  There is a parking lot on the right side. The car is in a campus area.  The person is in the road. They are looking into the road.  The person is near the car. There are other cars driving in the road.  ',\n",
       " 'The person is standing in the road. They are making a decision to cross or not.  There is a parking lot on the right side. The car is in a campus area.  The person is in the road. They are looking into the road.  The person is near the car. There are other cars driving in the road.  ',\n",
       " 'The person is standing in the road. They are making a decision to cross or not.  There is a parking lot on the right side. The car is in a campus area.  The person is in the road. They are looking into the road.  The person is near the car. There are other cars driving in the road.  ',\n",
       " 'The person is standing in the road. They are making a decision to cross or not.  There is a parking lot on the right side. The car is in a campus area.  The person is in the road. They are looking into the road.  The person is near the car. There are other cars driving in the road.  ',\n",
       " 'The person is standing in the road. They are making a decision to cross or not.  There is a parking lot on the right side. The car is in a campus area.  The person is in the road. They are looking into the road.  The person is near the car. There are other cars driving in the road.  ',\n",
       " 'The person is standing in the road. They are making a decision to cross or not.  There is a parking lot on the right side. The car is in a campus area.  The person is in the road. They are looking into the road.  The person is near the car. There are other cars driving in the road.  ',\n",
       " 'The person is standing in the road. They are making a decision to cross or not.  There is a parking lot on the right side. The car is in a campus area.  The person is in the road. They are looking into the road.  The person is near the car. There are other cars driving in the road.  ',\n",
       " 'The person is standing in the road. They are making a decision to cross or not.  There is a parking lot on the right side. The car is in a campus area.  The person is in the road. They are looking into the road.  The person is near the car. There are other cars driving in the road.  ',\n",
       " 'The person is standing in the road. They are making a decision to cross or not.  There is a parking lot on the right side. The car is in a campus area.  The person is in the road. They are looking into the road.  The person is near the car. There are other cars driving in the road.  ',\n",
       " 'The person is standing in the road. They are making a decision to cross or not.  There is a parking lot on the right side. The car is in a campus area.  The person is in the road. They are looking into the road.  The person is near the car. There are other cars driving in the road.  ',\n",
       " '    ',\n",
       " 'The pedestrian is getting on the sidewalk. She is getting out of the way of the car.   She is getting out of the road. She is still near the road.  She is near the car. There are other cars driving in the road.  ',\n",
       " 'The pedestrian is getting on the sidewalk. She is getting out of the way of the car.   She is getting out of the road. She is still near the road.  She is near the car. There are other cars driving in the road.  ',\n",
       " 'The pedestrian is getting on the sidewalk. She is getting out of the way of the car.   She is getting out of the road. She is still near the road.  She is near the car. There are other cars driving in the road.  ',\n",
       " 'The pedestrian is getting on the sidewalk. She is getting out of the way of the car.   She is getting out of the road. She is still near the road.  She is near the car. There are other cars driving in the road.  ',\n",
       " 'The pedestrian is getting on the sidewalk. She is getting out of the way of the car.   She is getting out of the road. She is still near the road.  She is near the car. There are other cars driving in the road.  ',\n",
       " 'The pedestrian is getting on the sidewalk. She is getting out of the way of the car.   She is getting out of the road. She is still near the road.  She is near the car. There are other cars driving in the road.  ',\n",
       " 'The pedestrian is getting on the sidewalk. She is getting out of the way of the car.   She is getting out of the road. She is still near the road.  She is near the car. There are other cars driving in the road.  ',\n",
       " 'The pedestrian is getting on the sidewalk. She is getting out of the way of the car.   She is getting out of the road. She is still near the road.  She is near the car. There are other cars driving in the road.  ',\n",
       " 'The pedestrian is getting on the sidewalk. She is getting out of the way of the car.   She is getting out of the road. She is still near the road.  She is near the car. There are other cars driving in the road.  ',\n",
       " 'The pedestrian is getting on the sidewalk. She is getting out of the way of the car.   She is getting out of the road. She is still near the road.  She is near the car. There are other cars driving in the road.  ',\n",
       " 'The pedestrian is getting on the sidewalk. She is getting out of the way of the car.   She is getting out of the road. She is still near the road.  She is near the car. There are other cars driving in the road.  ',\n",
       " 'The pedestrian is getting on the sidewalk. She is getting out of the way of the car.   She is getting out of the road. She is still near the road.  She is near the car. There are other cars driving in the road.  ',\n",
       " 'The pedestrian is getting on the sidewalk. She is getting out of the way of the car.   She is getting out of the road. She is still near the road.  She is near the car. There are other cars driving in the road.  ',\n",
       " 'The pedestrian is getting on the sidewalk. She is getting out of the way of the car.   She is getting out of the road. She is still near the road.  She is near the car. There are other cars driving in the road.  ',\n",
       " 'The pedestrian is getting on the sidewalk. She is getting out of the way of the car.   She is getting out of the road. She is still near the road.  She is near the car. There are other cars driving in the road.  ',\n",
       " 'The pedestrian is getting on the sidewalk. She is getting out of the way of the car.   She is getting out of the road. She is still near the road.  She is near the car. There are other cars driving in the road.  ',\n",
       " 'The pedestrian is getting on the sidewalk. She is getting out of the way of the car.   She is getting out of the road. She is still near the road.  She is near the car. There are other cars driving in the road.  ',\n",
       " 'The pedestrian is getting on the sidewalk. She is getting out of the way of the car.   She is getting out of the road. She is still near the road.  She is near the car. There are other cars driving in the road.  ',\n",
       " 'The pedestrian is getting on the sidewalk. She is getting out of the way of the car.   She is getting out of the road. She is still near the road.  She is near the car. There are other cars driving in the road.  ',\n",
       " 'The pedestrian is getting on the sidewalk. She is getting out of the way of the car.   She is getting out of the road. She is still near the road.  She is near the car. There are other cars driving in the road.  ',\n",
       " 'The pedestrian is getting on the sidewalk. She is getting out of the way of the car.   She is getting out of the road. She is still near the road.  She is near the car. There are other cars driving in the road.  ',\n",
       " 'The pedestrian is getting on the sidewalk. She is getting out of the way of the car.   She is getting out of the road. She is still near the road.  She is near the car. There are other cars driving in the road.  ',\n",
       " 'The pedestrian is getting on the sidewalk. She is getting out of the way of the car.   She is getting out of the road. She is still near the road.  She is near the car. There are other cars driving in the road.  ',\n",
       " 'The pedestrian is getting on the sidewalk. She is getting out of the way of the car.   She is getting out of the road. She is still near the road.  She is near the car. There are other cars driving in the road.  ',\n",
       " 'The pedestrian is getting on the sidewalk. She is getting out of the way of the car.   She is getting out of the road. She is still near the road.  She is near the car. There are other cars driving in the road.  ',\n",
       " 'The pedestrian is getting on the sidewalk. She is getting out of the way of the car.   She is getting out of the road. She is still near the road.  She is near the car. There are other cars driving in the road.  ',\n",
       " 'The pedestrian is getting on the sidewalk. She is getting out of the way of the car.   She is getting out of the road. She is still near the road.  She is near the car. There are other cars driving in the road.  ',\n",
       " 'The pedestrian is getting on the sidewalk. She is getting out of the way of the car.   She is getting out of the road. She is still near the road.  She is near the car. There are other cars driving in the road.  ',\n",
       " 'The pedestrian is getting on the sidewalk. She is getting out of the way of the car.   She is getting out of the road. She is still near the road.  She is near the car. There are other cars driving in the road.  ',\n",
       " 'The pedestrian is getting on the sidewalk. She is getting out of the way of the car.   She is getting out of the road. She is still near the road.  She is near the car. There are other cars driving in the road.  ',\n",
       " 'The pedestrian is getting on the sidewalk. She is getting out of the way of the car.   She is getting out of the road. She is still near the road.  She is near the car. There are other cars driving in the road.  ',\n",
       " 'The pedestrian is getting on the sidewalk. She is getting out of the way of the car.   She is getting out of the road. She is still near the road.  She is near the car. There are other cars driving in the road.  ',\n",
       " 'The pedestrian is getting on the sidewalk. She is getting out of the way of the car.   She is getting out of the road. She is still near the road.  She is near the car. There are other cars driving in the road.  ',\n",
       " 'The pedestrian is getting on the sidewalk. She is getting out of the way of the car.   She is getting out of the road. She is still near the road.  She is near the car. There are other cars driving in the road.  ',\n",
       " 'The pedestrian is getting on the sidewalk. She is getting out of the way of the car.   She is getting out of the road. She is still near the road.  She is near the car. There are other cars driving in the road.  ',\n",
       " 'The pedestrian is getting on the sidewalk. She is getting out of the way of the car.   She is getting out of the road. She is still near the road.  She is near the car. There are other cars driving in the road.  ',\n",
       " 'The pedestrian is getting on the sidewalk. She is getting out of the way of the car.   She is getting out of the road. She is still near the road.  She is near the car. There are other cars driving in the road.  ',\n",
       " 'The pedestrian is getting on the sidewalk. She is getting out of the way of the car.   She is getting out of the road. She is still near the road.  She is near the car. There are other cars driving in the road.  ',\n",
       " 'The pedestrian is getting on the sidewalk. She is getting out of the way of the car.   She is getting out of the road. She is still near the road.  She is near the car. There are other cars driving in the road.  ',\n",
       " 'The pedestrian is getting on the sidewalk. She is getting out of the way of the car.   She is getting out of the road. She is still near the road.  She is near the car. There are other cars driving in the road.  ',\n",
       " 'The pedestrian is getting on the sidewalk. She is getting out of the way of the car.   She is getting out of the road. She is still near the road.  She is near the car. There are other cars driving in the road.  ',\n",
       " 'The pedestrian is getting on the sidewalk. She is getting out of the way of the car.   She is getting out of the road. She is still near the road.  She is near the car. There are other cars driving in the road.  ',\n",
       " '',\n",
       " '',\n",
       " '',\n",
       " '',\n",
       " '',\n",
       " '',\n",
       " '',\n",
       " '',\n",
       " '',\n",
       " '',\n",
       " '',\n",
       " '',\n",
       " '',\n",
       " '',\n",
       " '',\n",
       " '',\n",
       " '',\n",
       " '',\n",
       " '',\n",
       " '',\n",
       " '',\n",
       " '',\n",
       " '',\n",
       " '',\n",
       " '',\n",
       " '',\n",
       " '',\n",
       " '',\n",
       " '',\n",
       " '',\n",
       " '',\n",
       " '',\n",
       " '',\n",
       " '',\n",
       " '',\n",
       " '',\n",
       " '',\n",
       " '']"
      ]
     },
     "execution_count": 112,
     "metadata": {},
     "output_type": "execute_result"
    }
   ],
   "source": [
    "user1Annotations['description']"
   ]
  },
  {
   "cell_type": "code",
   "execution_count": null,
   "id": "4e8f1943-e712-483c-974a-a477c6e38c20",
   "metadata": {},
   "outputs": [],
   "source": []
  }
 ],
 "metadata": {
  "kernelspec": {
   "display_name": "Python 3 (ipykernel)",
   "language": "python",
   "name": "python3"
  },
  "language_info": {
   "codemirror_mode": {
    "name": "ipython",
    "version": 3
   },
   "file_extension": ".py",
   "mimetype": "text/x-python",
   "name": "python",
   "nbconvert_exporter": "python",
   "pygments_lexer": "ipython3",
   "version": "3.8.10"
  }
 },
 "nbformat": 4,
 "nbformat_minor": 5
}
